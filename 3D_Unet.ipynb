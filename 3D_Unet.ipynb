{
 "cells": [
  {
   "cell_type": "code",
   "execution_count": null,
   "metadata": {
    "id": "ZNd4nlENQdMv"
   },
   "outputs": [],
   "source": [
    "#This code uses 3D Unet to train a network on 3D subvolumes (64x64x64).\n",
    "#It also segments a large volume and outputs a multidimensional OMETIFF file\n",
    "#Custom dataset is used for this code but it should work on any dataset, including BRATS."
   ]
  },
  {
   "cell_type": "code",
   "execution_count": null,
   "metadata": {
    "id": "0svPshCfmK46"
   },
   "outputs": [],
   "source": [
    "#Latest Tensorflow 2.9 is used for this experiment\n"
   ]
  },
  {
   "cell_type": "code",
   "execution_count": null,
   "metadata": {
    "id": "_NO5zXt_Lv6Y"
   },
   "outputs": [],
   "source": [
    "#Install all dependencies for sgementation-models-3D library.\n",
    "#We will use this library to call 3D unet.\n",
    "#Alternative, you can define your own Unet, if you have skills!\n",
    "!pip install classification-models-3D\n",
    "!pip install efficientnet-3D\n",
    "!pip install segmentation-models-3D"
   ]
  },
  {
   "cell_type": "code",
   "execution_count": null,
   "metadata": {
    "id": "DFJYJc1p_LRy"
   },
   "outputs": [],
   "source": [
    "#Use patchify to break large volumes into smaller for training \n",
    "#and also to put patches back together after prediction.\n",
    "!pip install patchify"
   ]
  },
  {
   "cell_type": "code",
   "execution_count": 1,
   "metadata": {
    "id": "foXdS4Uil4WP"
   },
   "outputs": [
    {
     "name": "stdout",
     "output_type": "stream",
     "text": [
      "2.9.0\n"
     ]
    }
   ],
   "source": [
    "import tensorflow as tf\n",
    "from tensorflow import keras\n",
    "print(tf.__version__)\n",
    "# print(keras.__version__)"
   ]
  },
  {
   "cell_type": "code",
   "execution_count": 2,
   "metadata": {
    "id": "45aZsgManbdG"
   },
   "outputs": [
    {
     "name": "stdout",
     "output_type": "stream",
     "text": [
      "Found GPU at: /device:GPU:0\n"
     ]
    }
   ],
   "source": [
    "#Make sure the GPU is available. \n",
    "import tensorflow as tf\n",
    "device_name = tf.test.gpu_device_name()\n",
    "if device_name != '/device:GPU:0':\n",
    "  raise SystemError('GPU device not found')\n",
    "print('Found GPU at: {}'.format(device_name))"
   ]
  },
  {
   "cell_type": "code",
   "execution_count": 3,
   "metadata": {},
   "outputs": [],
   "source": [
    "import os\n",
    "os.environ[\"SM_FRAMEWORK\"] = \"tf.keras\""
   ]
  },
  {
   "cell_type": "code",
   "execution_count": 4,
   "metadata": {
    "id": "Dr4Is2DRMMer"
   },
   "outputs": [
    {
     "name": "stdout",
     "output_type": "stream",
     "text": [
      "Segmentation Models: using `tf.keras` framework.\n"
     ]
    }
   ],
   "source": [
    "import segmentation_models_3D as sm\n"
   ]
  },
  {
   "cell_type": "code",
   "execution_count": 5,
   "metadata": {
    "id": "d7hKivzw-0V9"
   },
   "outputs": [],
   "source": [
    "from skimage import io\n",
    "from patchify import patchify, unpatchify\n",
    "import numpy as np\n",
    "from matplotlib import pyplot as plt\n",
    "# from keras import backend as K\n",
    "from keras.utils import to_categorical\n",
    "from sklearn.model_selection import train_test_split"
   ]
  },
  {
   "cell_type": "code",
   "execution_count": 6,
   "metadata": {
    "id": "HWZiqrMK-kVb"
   },
   "outputs": [],
   "source": [
    "#Load input images and masks. \n",
    "#Here we load 256x256x256 pixel volume. We will break it into patches of 64x64x64 for training. \n",
    "image = io.imread('E:/3d_unet/sandstone_data_for_ML/data_for_3D_Unet/train_images_256_256_256.tif')\n",
    "img_patches = patchify(image, (64, 64, 64), step=64)  #Step=64 for 64 patches means no overlap\n",
    "\n",
    "mask = io.imread('E:/3d_unet/sandstone_data_for_ML/data_for_3D_Unet/train_masks_256_256_256.tif')\n",
    "mask_patches = patchify(mask, (64, 64, 64), step=64)  \n"
   ]
  },
  {
   "cell_type": "code",
   "execution_count": 7,
   "metadata": {},
   "outputs": [
    {
     "name": "stdout",
     "output_type": "stream",
     "text": [
      "(4, 4, 4, 64, 64, 64)\n"
     ]
    }
   ],
   "source": [
    "print(img_patches.shape)"
   ]
  },
  {
   "cell_type": "code",
   "execution_count": 8,
   "metadata": {
    "id": "A8a8BumA_qpa"
   },
   "outputs": [
    {
     "data": {
      "text/plain": [
       "<matplotlib.image.AxesImage at 0x2c17d17a2e0>"
      ]
     },
     "execution_count": 8,
     "metadata": {},
     "output_type": "execute_result"
    },
    {
     "data": {
      "image/png": "[encoded data removed]",
      "text/plain": [
       "<Figure size 432x288 with 1 Axes>"
      ]
     },
     "metadata": {
      "needs_background": "light"
     },
     "output_type": "display_data"
    }
   ],
   "source": [
    "plt.imshow(img_patches[1,2,3,:,:,32])\n",
    "#plt.imshow(mask_patches[1,2,3,:,:,32])"
   ]
  },
  {
   "cell_type": "code",
   "execution_count": 9,
   "metadata": {
    "id": "K08wiQ0y-ogu"
   },
   "outputs": [
    {
     "name": "stdout",
     "output_type": "stream",
     "text": [
      "(64, 64, 64, 64)\n"
     ]
    }
   ],
   "source": [
    "\n",
    "input_img = np.reshape(img_patches, (-1, img_patches.shape[3], img_patches.shape[4], img_patches.shape[5]))\n",
    "input_mask = np.reshape(mask_patches, (-1, mask_patches.shape[3], mask_patches.shape[4], mask_patches.shape[5]))\n",
    "\n",
    "print(input_img.shape)  # n_patches, x, y, z\n",
    "\n",
    "\n",
    "\n",
    "\n"
   ]
  },
  {
   "cell_type": "code",
   "execution_count": 10,
   "metadata": {
    "id": "3FqzxzsX_4YQ"
   },
   "outputs": [],
   "source": [
    "n_classes=4"
   ]
  },
  {
   "cell_type": "code",
   "execution_count": 11,
   "metadata": {
    "id": "av8BBXU0-rdw"
   },
   "outputs": [],
   "source": [
    "#Convert grey image to 3 channels by copying channel 3 times.\n",
    "#We do this as our unet model expects 3 channel input. \n",
    "\n",
    "train_img = np.stack((input_img,)*3, axis=-1)\n",
    "train_mask = np.expand_dims(input_mask, axis=4)\n",
    "\n",
    "\n",
    "train_mask_cat = to_categorical(train_mask, num_classes=n_classes)\n",
    "\n",
    "\n",
    "X_train, X_test, y_train, y_test = train_test_split(train_img, train_mask_cat, test_size = 0.10, random_state = 0)\n",
    "\n"
   ]
  },
  {
   "cell_type": "code",
   "execution_count": 12,
   "metadata": {
    "id": "Higavd5lmj6A"
   },
   "outputs": [],
   "source": [
    "\n",
    "# Loss Function and coefficients to be used during training:\n",
    "def dice_coefficient(y_true, y_pred):\n",
    "    smoothing_factor = 1\n",
    "    flat_y_true = K.flatten(y_true)\n",
    "    flat_y_pred = K.flatten(y_pred)\n",
    "    return (2. * K.sum(flat_y_true * flat_y_pred) + smoothing_factor) / (K.sum(flat_y_true) + K.sum(flat_y_pred) + smoothing_factor)\n",
    "\n",
    "def dice_coefficient_loss(y_true, y_pred):\n",
    "    return 1 - dice_coefficient(y_true, y_pred)\n"
   ]
  },
  {
   "cell_type": "markdown",
   "metadata": {
    "id": "wh0P2o-kQwSK"
   },
   "source": [
    "Backbones: ['resnet18', 'resnet34', 'resnet50', 'resnet101', 'resnet152', 'seresnet18', 'seresnet34', 'seresnet50', 'seresnet101', 'seresnet152', 'seresnext50', 'seresnext101', 'senet154', 'resnext50', 'resnext101', 'vgg16', 'vgg19', 'densenet121', 'densenet169', 'densenet201', 'inceptionresnetv2', 'inceptionv3', 'mobilenet', 'mobilenetv2', 'efficientnetb0', 'efficientnetb1', 'efficientnetb2', 'efficientnetb3', 'efficientnetb4', 'efficientnetb5', 'efficientnetb6', 'efficientnetb7']"
   ]
  },
  {
   "cell_type": "code",
   "execution_count": 13,
   "metadata": {
    "id": "mWiQsv6IqGGF"
   },
   "outputs": [],
   "source": [
    "#Define parameters for our model.\n",
    "\n",
    "encoder_weights = 'imagenet'\n",
    "BACKBONE = 'vgg16'  #Try vgg16, efficientnetb7, inceptionv3, resnet50\n",
    "activation = 'softmax'\n",
    "patch_size = 64\n",
    "n_classes = 4\n",
    "channels=3\n",
    "\n",
    "LR = 0.0001\n",
    "optim = keras.optimizers.Adam(LR)\n",
    "\n",
    "# Segmentation models losses can be combined together by '+' and scaled by integer or float factor\n",
    "# set class weights for dice_loss (car: 1.; pedestrian: 2.; background: 0.5;)\n",
    "dice_loss = sm.losses.DiceLoss(class_weights=np.array([0.25, 0.25, 0.25, 0.25])) \n",
    "focal_loss = sm.losses.CategoricalFocalLoss()\n",
    "total_loss = dice_loss + (1 * focal_loss)\n",
    "\n",
    "# actulally total_loss can be imported directly from library, above example just show you how to manipulate with losses\n",
    "# total_loss = sm.losses.binary_focal_dice_loss # or sm.losses.categorical_focal_dice_loss \n",
    "\n",
    "metrics = [sm.metrics.IOUScore(threshold=0.5), sm.metrics.FScore(threshold=0.5)]"
   ]
  },
  {
   "cell_type": "code",
   "execution_count": 14,
   "metadata": {
    "id": "lePX43TyD1Lp"
   },
   "outputs": [],
   "source": [
    "preprocess_input = sm.get_preprocessing(BACKBONE)"
   ]
  },
  {
   "cell_type": "code",
   "execution_count": 15,
   "metadata": {
    "id": "3jTN_tsXD7qK"
   },
   "outputs": [],
   "source": [
    "#Preprocess input data - otherwise you end up with garbage resutls \n",
    "# and potentially model that does not converge.\n",
    "X_train_prep = preprocess_input(X_train)\n",
    "X_test_prep = preprocess_input(X_test)"
   ]
  },
  {
   "cell_type": "code",
   "execution_count": 16,
   "metadata": {
    "id": "jdoK1wudAJQ7"
   },
   "outputs": [
    {
     "name": "stdout",
     "output_type": "stream",
     "text": [
      "Model: \"model\"\n",
      "__________________________________________________________________________________________________\n",
      " Layer (type)                   Output Shape         Param #     Connected to                     \n",
      "==================================================================================================\n",
      " input_1 (InputLayer)           [(None, 64, 64, 64,  0           []                               \n",
      "                                 3)]                                                              \n",
      "                                                                                                  \n",
      " block1_conv1 (Conv3D)          (None, 64, 64, 64,   5248        ['input_1[0][0]']                \n",
      "                                64)                                                               \n",
      "                                                                                                  \n",
      " block1_conv2 (Conv3D)          (None, 64, 64, 64,   110656      ['block1_conv1[0][0]']           \n",
      "                                64)                                                               \n",
      "                                                                                                  \n",
      " block1_pool (MaxPooling3D)     (None, 32, 32, 32,   0           ['block1_conv2[0][0]']           \n",
      "                                64)                                                               \n",
      "                                                                                                  \n",
      " block2_conv1 (Conv3D)          (None, 32, 32, 32,   221312      ['block1_pool[0][0]']            \n",
      "                                128)                                                              \n",
      "                                                                                                  \n",
      " block2_conv2 (Conv3D)          (None, 32, 32, 32,   442496      ['block2_conv1[0][0]']           \n",
      "                                128)                                                              \n",
      "                                                                                                  \n",
      " block2_pool (MaxPooling3D)     (None, 16, 16, 16,   0           ['block2_conv2[0][0]']           \n",
      "                                128)                                                              \n",
      "                                                                                                  \n",
      " block3_conv1 (Conv3D)          (None, 16, 16, 16,   884992      ['block2_pool[0][0]']            \n",
      "                                256)                                                              \n",
      "                                                                                                  \n",
      " block3_conv2 (Conv3D)          (None, 16, 16, 16,   1769728     ['block3_conv1[0][0]']           \n",
      "                                256)                                                              \n",
      "                                                                                                  \n",
      " block3_conv3 (Conv3D)          (None, 16, 16, 16,   1769728     ['block3_conv2[0][0]']           \n",
      "                                256)                                                              \n",
      "                                                                                                  \n",
      " block3_pool (MaxPooling3D)     (None, 8, 8, 8, 256  0           ['block3_conv3[0][0]']           \n",
      "                                )                                                                 \n",
      "                                                                                                  \n",
      " block4_conv1 (Conv3D)          (None, 8, 8, 8, 512  3539456     ['block3_pool[0][0]']            \n",
      "                                )                                                                 \n",
      "                                                                                                  \n",
      " block4_conv2 (Conv3D)          (None, 8, 8, 8, 512  7078400     ['block4_conv1[0][0]']           \n",
      "                                )                                                                 \n",
      "                                                                                                  \n",
      " block4_conv3 (Conv3D)          (None, 8, 8, 8, 512  7078400     ['block4_conv2[0][0]']           \n",
      "                                )                                                                 \n",
      "                                                                                                  \n",
      " block4_pool (MaxPooling3D)     (None, 4, 4, 4, 512  0           ['block4_conv3[0][0]']           \n",
      "                                )                                                                 \n",
      "                                                                                                  \n",
      " block5_conv1 (Conv3D)          (None, 4, 4, 4, 512  7078400     ['block4_pool[0][0]']            \n",
      "                                )                                                                 \n",
      "                                                                                                  \n",
      " block5_conv2 (Conv3D)          (None, 4, 4, 4, 512  7078400     ['block5_conv1[0][0]']           \n",
      "                                )                                                                 \n",
      "                                                                                                  \n",
      " block5_conv3 (Conv3D)          (None, 4, 4, 4, 512  7078400     ['block5_conv2[0][0]']           \n",
      "                                )                                                                 \n",
      "                                                                                                  \n",
      " block5_pool (MaxPooling3D)     (None, 2, 2, 2, 512  0           ['block5_conv3[0][0]']           \n",
      "                                )                                                                 \n",
      "                                                                                                  \n",
      " center_block1_conv (Conv3D)    (None, 2, 2, 2, 512  7077888     ['block5_pool[0][0]']            \n",
      "                                )                                                                 \n",
      "                                                                                                  \n",
      " center_block1_bn (BatchNormali  (None, 2, 2, 2, 512  2048       ['center_block1_conv[0][0]']     \n",
      " zation)                        )                                                                 \n",
      "                                                                                                  \n",
      " center_block1_relu (Activation  (None, 2, 2, 2, 512  0          ['center_block1_bn[0][0]']       \n",
      " )                              )                                                                 \n",
      "                                                                                                  \n",
      " center_block2_conv (Conv3D)    (None, 2, 2, 2, 512  7077888     ['center_block1_relu[0][0]']     \n",
      "                                )                                                                 \n",
      "                                                                                                  \n",
      " center_block2_bn (BatchNormali  (None, 2, 2, 2, 512  2048       ['center_block2_conv[0][0]']     \n",
      " zation)                        )                                                                 \n",
      "                                                                                                  \n",
      " center_block2_relu (Activation  (None, 2, 2, 2, 512  0          ['center_block2_bn[0][0]']       \n",
      " )                              )                                                                 \n",
      "                                                                                                  \n",
      " decoder_stage0_upsampling (UpS  (None, 4, 4, 4, 512  0          ['center_block2_relu[0][0]']     \n",
      " ampling3D)                     )                                                                 \n",
      "                                                                                                  \n",
      " decoder_stage0_concat (Concate  (None, 4, 4, 4, 102  0          ['decoder_stage0_upsampling[0][0]\n",
      " nate)                          4)                               ',                               \n",
      "                                                                  'block5_conv3[0][0]']           \n",
      "                                                                                                  \n",
      " decoder_stage0a_conv (Conv3D)  (None, 4, 4, 4, 256  7077888     ['decoder_stage0_concat[0][0]']  \n",
      "                                )                                                                 \n",
      "                                                                                                  \n",
      " decoder_stage0a_bn (BatchNorma  (None, 4, 4, 4, 256  1024       ['decoder_stage0a_conv[0][0]']   \n",
      " lization)                      )                                                                 \n",
      "                                                                                                  \n",
      " decoder_stage0a_relu (Activati  (None, 4, 4, 4, 256  0          ['decoder_stage0a_bn[0][0]']     \n",
      " on)                            )                                                                 \n",
      "                                                                                                  \n",
      " decoder_stage0b_conv (Conv3D)  (None, 4, 4, 4, 256  1769472     ['decoder_stage0a_relu[0][0]']   \n",
      "                                )                                                                 \n",
      "                                                                                                  \n",
      " decoder_stage0b_bn (BatchNorma  (None, 4, 4, 4, 256  1024       ['decoder_stage0b_conv[0][0]']   \n",
      " lization)                      )                                                                 \n",
      "                                                                                                  \n",
      " decoder_stage0b_relu (Activati  (None, 4, 4, 4, 256  0          ['decoder_stage0b_bn[0][0]']     \n",
      " on)                            )                                                                 \n",
      "                                                                                                  \n",
      " decoder_stage1_upsampling (UpS  (None, 8, 8, 8, 256  0          ['decoder_stage0b_relu[0][0]']   \n",
      " ampling3D)                     )                                                                 \n",
      "                                                                                                  \n",
      " decoder_stage1_concat (Concate  (None, 8, 8, 8, 768  0          ['decoder_stage1_upsampling[0][0]\n",
      " nate)                          )                                ',                               \n",
      "                                                                  'block4_conv3[0][0]']           \n",
      "                                                                                                  \n",
      " decoder_stage1a_conv (Conv3D)  (None, 8, 8, 8, 128  2654208     ['decoder_stage1_concat[0][0]']  \n",
      "                                )                                                                 \n",
      "                                                                                                  \n",
      " decoder_stage1a_bn (BatchNorma  (None, 8, 8, 8, 128  512        ['decoder_stage1a_conv[0][0]']   \n",
      " lization)                      )                                                                 \n",
      "                                                                                                  \n",
      " decoder_stage1a_relu (Activati  (None, 8, 8, 8, 128  0          ['decoder_stage1a_bn[0][0]']     \n",
      " on)                            )                                                                 \n",
      "                                                                                                  \n",
      " decoder_stage1b_conv (Conv3D)  (None, 8, 8, 8, 128  442368      ['decoder_stage1a_relu[0][0]']   \n",
      "                                )                                                                 \n",
      "                                                                                                  \n",
      " decoder_stage1b_bn (BatchNorma  (None, 8, 8, 8, 128  512        ['decoder_stage1b_conv[0][0]']   \n",
      " lization)                      )                                                                 \n",
      "                                                                                                  \n",
      " decoder_stage1b_relu (Activati  (None, 8, 8, 8, 128  0          ['decoder_stage1b_bn[0][0]']     \n",
      " on)                            )                                                                 \n",
      "                                                                                                  \n",
      " decoder_stage2_upsampling (UpS  (None, 16, 16, 16,   0          ['decoder_stage1b_relu[0][0]']   \n",
      " ampling3D)                     128)                                                              \n",
      "                                                                                                  \n",
      " decoder_stage2_concat (Concate  (None, 16, 16, 16,   0          ['decoder_stage2_upsampling[0][0]\n",
      " nate)                          384)                             ',                               \n",
      "                                                                  'block3_conv3[0][0]']           \n",
      "                                                                                                  \n",
      " decoder_stage2a_conv (Conv3D)  (None, 16, 16, 16,   663552      ['decoder_stage2_concat[0][0]']  \n",
      "                                64)                                                               \n",
      "                                                                                                  \n",
      " decoder_stage2a_bn (BatchNorma  (None, 16, 16, 16,   256        ['decoder_stage2a_conv[0][0]']   \n",
      " lization)                      64)                                                               \n",
      "                                                                                                  \n",
      " decoder_stage2a_relu (Activati  (None, 16, 16, 16,   0          ['decoder_stage2a_bn[0][0]']     \n",
      " on)                            64)                                                               \n",
      "                                                                                                  \n",
      " decoder_stage2b_conv (Conv3D)  (None, 16, 16, 16,   110592      ['decoder_stage2a_relu[0][0]']   \n",
      "                                64)                                                               \n",
      "                                                                                                  \n",
      " decoder_stage2b_bn (BatchNorma  (None, 16, 16, 16,   256        ['decoder_stage2b_conv[0][0]']   \n",
      " lization)                      64)                                                               \n",
      "                                                                                                  \n",
      " decoder_stage2b_relu (Activati  (None, 16, 16, 16,   0          ['decoder_stage2b_bn[0][0]']     \n",
      " on)                            64)                                                               \n",
      "                                                                                                  \n",
      " decoder_stage3_upsampling (UpS  (None, 32, 32, 32,   0          ['decoder_stage2b_relu[0][0]']   \n",
      " ampling3D)                     64)                                                               \n",
      "                                                                                                  \n",
      " decoder_stage3_concat (Concate  (None, 32, 32, 32,   0          ['decoder_stage3_upsampling[0][0]\n",
      " nate)                          192)                             ',                               \n",
      "                                                                  'block2_conv2[0][0]']           \n",
      "                                                                                                  \n",
      " decoder_stage3a_conv (Conv3D)  (None, 32, 32, 32,   165888      ['decoder_stage3_concat[0][0]']  \n",
      "                                32)                                                               \n",
      "                                                                                                  \n",
      " decoder_stage3a_bn (BatchNorma  (None, 32, 32, 32,   128        ['decoder_stage3a_conv[0][0]']   \n",
      " lization)                      32)                                                               \n",
      "                                                                                                  \n",
      " decoder_stage3a_relu (Activati  (None, 32, 32, 32,   0          ['decoder_stage3a_bn[0][0]']     \n",
      " on)                            32)                                                               \n",
      "                                                                                                  \n",
      " decoder_stage3b_conv (Conv3D)  (None, 32, 32, 32,   27648       ['decoder_stage3a_relu[0][0]']   \n",
      "                                32)                                                               \n",
      "                                                                                                  \n",
      " decoder_stage3b_bn (BatchNorma  (None, 32, 32, 32,   128        ['decoder_stage3b_conv[0][0]']   \n",
      " lization)                      32)                                                               \n",
      "                                                                                                  \n",
      " decoder_stage3b_relu (Activati  (None, 32, 32, 32,   0          ['decoder_stage3b_bn[0][0]']     \n",
      " on)                            32)                                                               \n",
      "                                                                                                  \n",
      " decoder_stage4_upsampling (UpS  (None, 64, 64, 64,   0          ['decoder_stage3b_relu[0][0]']   \n",
      " ampling3D)                     32)                                                               \n",
      "                                                                                                  \n",
      " decoder_stage4a_conv (Conv3D)  (None, 64, 64, 64,   13824       ['decoder_stage4_upsampling[0][0]\n",
      "                                16)                              ']                               \n",
      "                                                                                                  \n",
      " decoder_stage4a_bn (BatchNorma  (None, 64, 64, 64,   64         ['decoder_stage4a_conv[0][0]']   \n",
      " lization)                      16)                                                               \n",
      "                                                                                                  \n",
      " decoder_stage4a_relu (Activati  (None, 64, 64, 64,   0          ['decoder_stage4a_bn[0][0]']     \n",
      " on)                            16)                                                               \n",
      "                                                                                                  \n",
      " decoder_stage4b_conv (Conv3D)  (None, 64, 64, 64,   6912        ['decoder_stage4a_relu[0][0]']   \n",
      "                                16)                                                               \n",
      "                                                                                                  \n",
      " decoder_stage4b_bn (BatchNorma  (None, 64, 64, 64,   64         ['decoder_stage4b_conv[0][0]']   \n",
      " lization)                      16)                                                               \n",
      "                                                                                                  \n",
      " decoder_stage4b_relu (Activati  (None, 64, 64, 64,   0          ['decoder_stage4b_bn[0][0]']     \n",
      " on)                            16)                                                               \n",
      "                                                                                                  \n",
      " final_conv (Conv3D)            (None, 64, 64, 64,   1732        ['decoder_stage4b_relu[0][0]']   \n",
      "                                4)                                                                \n",
      "                                                                                                  \n",
      " softmax (Activation)           (None, 64, 64, 64,   0           ['final_conv[0][0]']             \n",
      "                                4)                                                                \n",
      "                                                                                                  \n",
      "==================================================================================================\n",
      "Total params: 71,233,540\n",
      "Trainable params: 71,229,508\n",
      "Non-trainable params: 4,032\n",
      "__________________________________________________________________________________________________\n",
      "None\n"
     ]
    }
   ],
   "source": [
    "#Define the model. Here we use Unet but we can also use other model architectures from the library.\n",
    "model = sm.Unet(BACKBONE, classes=n_classes, \n",
    "                input_shape=(patch_size, patch_size, patch_size, channels), \n",
    "                encoder_weights=encoder_weights,\n",
    "                activation=activation)\n",
    "\n",
    "model.compile(optimizer = optim, loss=total_loss, metrics=metrics)\n",
    "print(model.summary())"
   ]
  },
  {
   "cell_type": "code",
   "execution_count": 17,
   "metadata": {
    "colab": {
     "base_uri": "https://localhost:8080/"
    },
    "id": "f69gK8DoAQ1C",
    "outputId": "daa0be19-0866-4379-c2d1-5c59e878b12a"
   },
   "outputs": [
    {
     "name": "stdout",
     "output_type": "stream",
     "text": [
      "Epoch 1/100\n",
      "8/8 [==============================] - 25s 975ms/step - loss: 0.9863 - iou_score: 0.0983 - f1-score: 0.1676 - val_loss: 1.1584 - val_iou_score: 0.0489 - val_f1-score: 0.0920\n",
      "Epoch 2/100\n",
      "8/8 [==============================] - 4s 530ms/step - loss: 0.9560 - iou_score: 0.2639 - f1-score: 0.3846 - val_loss: 1.1677 - val_iou_score: 0.0652 - val_f1-score: 0.1171\n",
      "Epoch 3/100\n",
      "8/8 [==============================] - 4s 539ms/step - loss: 0.9379 - iou_score: 0.3602 - f1-score: 0.4725 - val_loss: 1.1257 - val_iou_score: 0.0926 - val_f1-score: 0.1503\n",
      "Epoch 4/100\n",
      "8/8 [==============================] - 4s 539ms/step - loss: 0.9247 - iou_score: 0.4173 - f1-score: 0.5241 - val_loss: 1.0390 - val_iou_score: 0.1379 - val_f1-score: 0.2075\n",
      "Epoch 5/100\n",
      "8/8 [==============================] - 4s 533ms/step - loss: 0.9144 - iou_score: 0.4747 - f1-score: 0.5805 - val_loss: 1.0049 - val_iou_score: 0.1565 - val_f1-score: 0.2427\n",
      "Epoch 6/100\n",
      "8/8 [==============================] - 4s 536ms/step - loss: 0.9059 - iou_score: 0.4801 - f1-score: 0.5782 - val_loss: 0.9709 - val_iou_score: 0.2175 - val_f1-score: 0.3239\n",
      "Epoch 7/100\n",
      "8/8 [==============================] - 4s 544ms/step - loss: 0.8994 - iou_score: 0.5134 - f1-score: 0.6161 - val_loss: 0.9502 - val_iou_score: 0.3052 - val_f1-score: 0.4251\n",
      "Epoch 8/100\n",
      "8/8 [==============================] - 4s 537ms/step - loss: 0.8930 - iou_score: 0.5543 - f1-score: 0.6653 - val_loss: 0.9192 - val_iou_score: 0.4347 - val_f1-score: 0.5717\n",
      "Epoch 9/100\n",
      "8/8 [==============================] - 4s 536ms/step - loss: 0.8878 - iou_score: 0.5478 - f1-score: 0.6598 - val_loss: 0.9068 - val_iou_score: 0.5304 - val_f1-score: 0.6740\n",
      "Epoch 10/100\n",
      "8/8 [==============================] - 4s 543ms/step - loss: 0.8805 - iou_score: 0.6005 - f1-score: 0.7206 - val_loss: 0.9009 - val_iou_score: 0.5442 - val_f1-score: 0.6789\n",
      "Epoch 11/100\n",
      "8/8 [==============================] - 4s 538ms/step - loss: 0.8744 - iou_score: 0.6014 - f1-score: 0.7177 - val_loss: 0.8964 - val_iou_score: 0.5967 - val_f1-score: 0.7280\n",
      "Epoch 12/100\n",
      "8/8 [==============================] - 4s 531ms/step - loss: 0.8698 - iou_score: 0.6290 - f1-score: 0.7449 - val_loss: 0.8884 - val_iou_score: 0.6140 - val_f1-score: 0.7426\n",
      "Epoch 13/100\n",
      "8/8 [==============================] - 4s 536ms/step - loss: 0.8642 - iou_score: 0.6441 - f1-score: 0.7618 - val_loss: 0.8790 - val_iou_score: 0.6544 - val_f1-score: 0.7779\n",
      "Epoch 14/100\n",
      "8/8 [==============================] - 4s 537ms/step - loss: 0.8637 - iou_score: 0.6250 - f1-score: 0.7365 - val_loss: 0.8730 - val_iou_score: 0.6753 - val_f1-score: 0.7940\n",
      "Epoch 15/100\n",
      "8/8 [==============================] - 4s 540ms/step - loss: 0.8558 - iou_score: 0.6398 - f1-score: 0.7475 - val_loss: 0.8656 - val_iou_score: 0.6984 - val_f1-score: 0.8079\n",
      "Epoch 16/100\n",
      "8/8 [==============================] - 4s 535ms/step - loss: 0.8481 - iou_score: 0.6615 - f1-score: 0.7735 - val_loss: 0.8647 - val_iou_score: 0.6969 - val_f1-score: 0.8082\n",
      "Epoch 17/100\n",
      "8/8 [==============================] - 4s 541ms/step - loss: 0.8465 - iou_score: 0.6611 - f1-score: 0.7744 - val_loss: 0.8653 - val_iou_score: 0.7016 - val_f1-score: 0.8124\n",
      "Epoch 18/100\n",
      "8/8 [==============================] - 4s 535ms/step - loss: 0.8445 - iou_score: 0.6657 - f1-score: 0.7741 - val_loss: 0.8604 - val_iou_score: 0.6905 - val_f1-score: 0.8012\n",
      "Epoch 19/100\n",
      "8/8 [==============================] - 4s 531ms/step - loss: 0.8422 - iou_score: 0.6697 - f1-score: 0.7790 - val_loss: 0.8522 - val_iou_score: 0.7276 - val_f1-score: 0.8286\n",
      "Epoch 20/100\n",
      "8/8 [==============================] - 4s 530ms/step - loss: 0.8412 - iou_score: 0.6772 - f1-score: 0.7860 - val_loss: 0.8529 - val_iou_score: 0.7168 - val_f1-score: 0.8236\n",
      "Epoch 21/100\n",
      "8/8 [==============================] - 4s 535ms/step - loss: 0.8341 - iou_score: 0.6971 - f1-score: 0.8046 - val_loss: 0.8474 - val_iou_score: 0.7370 - val_f1-score: 0.8368\n",
      "Epoch 22/100\n",
      "8/8 [==============================] - 4s 539ms/step - loss: 0.8352 - iou_score: 0.6715 - f1-score: 0.7779 - val_loss: 0.8493 - val_iou_score: 0.7121 - val_f1-score: 0.8168\n",
      "Epoch 23/100\n",
      "8/8 [==============================] - 4s 538ms/step - loss: 0.8263 - iou_score: 0.6962 - f1-score: 0.8000 - val_loss: 0.8439 - val_iou_score: 0.7299 - val_f1-score: 0.8331\n",
      "Epoch 24/100\n",
      "8/8 [==============================] - 4s 543ms/step - loss: 0.8307 - iou_score: 0.6911 - f1-score: 0.7998 - val_loss: 0.8409 - val_iou_score: 0.7302 - val_f1-score: 0.8336\n",
      "Epoch 25/100\n",
      "8/8 [==============================] - 4s 541ms/step - loss: 0.8261 - iou_score: 0.6969 - f1-score: 0.8002 - val_loss: 0.8354 - val_iou_score: 0.7437 - val_f1-score: 0.8405\n",
      "Epoch 26/100\n",
      "8/8 [==============================] - 4s 547ms/step - loss: 0.8234 - iou_score: 0.7156 - f1-score: 0.8184 - val_loss: 0.8352 - val_iou_score: 0.7169 - val_f1-score: 0.8181\n",
      "Epoch 27/100\n",
      "8/8 [==============================] - 4s 542ms/step - loss: 0.8209 - iou_score: 0.7059 - f1-score: 0.8090 - val_loss: 0.8455 - val_iou_score: 0.6748 - val_f1-score: 0.7900\n",
      "Epoch 28/100\n",
      "8/8 [==============================] - 4s 543ms/step - loss: 0.8201 - iou_score: 0.7137 - f1-score: 0.8158 - val_loss: 0.8465 - val_iou_score: 0.6539 - val_f1-score: 0.7742\n",
      "Epoch 29/100\n",
      "8/8 [==============================] - 4s 541ms/step - loss: 0.8207 - iou_score: 0.7049 - f1-score: 0.8063 - val_loss: 0.8250 - val_iou_score: 0.7492 - val_f1-score: 0.8465\n",
      "Epoch 30/100\n",
      "8/8 [==============================] - 4s 534ms/step - loss: 0.8187 - iou_score: 0.7178 - f1-score: 0.8161 - val_loss: 0.8290 - val_iou_score: 0.7229 - val_f1-score: 0.8282\n",
      "Epoch 31/100\n",
      "8/8 [==============================] - 4s 536ms/step - loss: 0.8109 - iou_score: 0.7430 - f1-score: 0.8406 - val_loss: 0.8282 - val_iou_score: 0.7129 - val_f1-score: 0.8206\n",
      "Epoch 32/100\n",
      "8/8 [==============================] - 4s 543ms/step - loss: 0.8105 - iou_score: 0.7425 - f1-score: 0.8390 - val_loss: 0.8280 - val_iou_score: 0.7041 - val_f1-score: 0.8141\n",
      "Epoch 33/100\n",
      "8/8 [==============================] - 4s 543ms/step - loss: 0.8139 - iou_score: 0.7248 - f1-score: 0.8229 - val_loss: 0.8214 - val_iou_score: 0.7292 - val_f1-score: 0.8324\n",
      "Epoch 34/100\n",
      "8/8 [==============================] - 4s 543ms/step - loss: 0.8125 - iou_score: 0.7303 - f1-score: 0.8294 - val_loss: 0.8395 - val_iou_score: 0.6417 - val_f1-score: 0.7598\n",
      "Epoch 35/100\n",
      "8/8 [==============================] - 4s 542ms/step - loss: 0.8143 - iou_score: 0.7272 - f1-score: 0.8242 - val_loss: 0.8281 - val_iou_score: 0.6927 - val_f1-score: 0.8000\n",
      "Epoch 36/100\n",
      "8/8 [==============================] - 4s 548ms/step - loss: 0.8127 - iou_score: 0.7252 - f1-score: 0.8267 - val_loss: 0.8346 - val_iou_score: 0.6541 - val_f1-score: 0.7730\n",
      "Epoch 37/100\n",
      "8/8 [==============================] - 4s 547ms/step - loss: 0.8073 - iou_score: 0.7408 - f1-score: 0.8384 - val_loss: 0.8174 - val_iou_score: 0.7261 - val_f1-score: 0.8258\n",
      "Epoch 38/100\n",
      "8/8 [==============================] - 4s 546ms/step - loss: 0.8104 - iou_score: 0.7382 - f1-score: 0.8346 - val_loss: 0.8162 - val_iou_score: 0.7235 - val_f1-score: 0.8282\n",
      "Epoch 39/100\n",
      "8/8 [==============================] - 4s 541ms/step - loss: 0.8094 - iou_score: 0.7286 - f1-score: 0.8287 - val_loss: 0.8589 - val_iou_score: 0.5581 - val_f1-score: 0.6780\n",
      "Epoch 40/100\n",
      "8/8 [==============================] - 4s 543ms/step - loss: 0.8136 - iou_score: 0.7244 - f1-score: 0.8247 - val_loss: 0.8126 - val_iou_score: 0.7350 - val_f1-score: 0.8320\n",
      "Epoch 41/100\n",
      "8/8 [==============================] - 4s 544ms/step - loss: 0.8097 - iou_score: 0.7414 - f1-score: 0.8393 - val_loss: 0.8093 - val_iou_score: 0.7481 - val_f1-score: 0.8454\n",
      "Epoch 42/100\n",
      "8/8 [==============================] - 4s 534ms/step - loss: 0.8151 - iou_score: 0.7010 - f1-score: 0.8044 - val_loss: 0.8193 - val_iou_score: 0.7012 - val_f1-score: 0.8056\n",
      "Epoch 43/100\n",
      "8/8 [==============================] - 4s 541ms/step - loss: 0.8086 - iou_score: 0.7314 - f1-score: 0.8321 - val_loss: 0.8145 - val_iou_score: 0.7170 - val_f1-score: 0.8237\n",
      "Epoch 44/100\n",
      "8/8 [==============================] - 4s 539ms/step - loss: 0.8053 - iou_score: 0.7456 - f1-score: 0.8422 - val_loss: 0.8111 - val_iou_score: 0.7356 - val_f1-score: 0.8362\n",
      "Epoch 45/100\n",
      "8/8 [==============================] - 4s 544ms/step - loss: 0.8069 - iou_score: 0.7367 - f1-score: 0.8362 - val_loss: 0.8158 - val_iou_score: 0.7089 - val_f1-score: 0.8169\n",
      "Epoch 46/100\n",
      "8/8 [==============================] - 4s 545ms/step - loss: 0.8090 - iou_score: 0.7253 - f1-score: 0.8244 - val_loss: 0.8171 - val_iou_score: 0.7036 - val_f1-score: 0.8042\n",
      "Epoch 47/100\n",
      "8/8 [==============================] - 4s 541ms/step - loss: 0.8088 - iou_score: 0.7344 - f1-score: 0.8343 - val_loss: 0.8107 - val_iou_score: 0.7289 - val_f1-score: 0.8303\n",
      "Epoch 48/100\n",
      "8/8 [==============================] - 4s 550ms/step - loss: 0.8067 - iou_score: 0.7423 - f1-score: 0.8401 - val_loss: 0.8220 - val_iou_score: 0.6798 - val_f1-score: 0.7940\n",
      "Epoch 49/100\n",
      "8/8 [==============================] - 4s 544ms/step - loss: 0.8073 - iou_score: 0.7353 - f1-score: 0.8317 - val_loss: 0.8204 - val_iou_score: 0.6860 - val_f1-score: 0.7991\n",
      "Epoch 50/100\n",
      "8/8 [==============================] - 4s 540ms/step - loss: 0.8089 - iou_score: 0.7276 - f1-score: 0.8249 - val_loss: 0.8259 - val_iou_score: 0.6686 - val_f1-score: 0.7790\n",
      "Epoch 51/100\n",
      "8/8 [==============================] - 4s 546ms/step - loss: 0.8043 - iou_score: 0.7447 - f1-score: 0.8406 - val_loss: 0.8270 - val_iou_score: 0.6672 - val_f1-score: 0.7792\n",
      "Epoch 52/100\n",
      "8/8 [==============================] - 4s 544ms/step - loss: 0.8038 - iou_score: 0.7466 - f1-score: 0.8412 - val_loss: 0.8141 - val_iou_score: 0.7108 - val_f1-score: 0.8197\n",
      "Epoch 53/100\n",
      "8/8 [==============================] - 4s 538ms/step - loss: 0.8017 - iou_score: 0.7617 - f1-score: 0.8550 - val_loss: 0.8182 - val_iou_score: 0.6964 - val_f1-score: 0.7968\n",
      "Epoch 54/100\n",
      "8/8 [==============================] - 4s 535ms/step - loss: 0.8039 - iou_score: 0.7287 - f1-score: 0.8156 - val_loss: 0.8272 - val_iou_score: 0.6588 - val_f1-score: 0.7755\n",
      "Epoch 55/100\n",
      "8/8 [==============================] - 4s 533ms/step - loss: 0.8047 - iou_score: 0.7398 - f1-score: 0.8339 - val_loss: 0.8030 - val_iou_score: 0.7591 - val_f1-score: 0.8517\n",
      "Epoch 56/100\n",
      "8/8 [==============================] - 4s 538ms/step - loss: 0.8045 - iou_score: 0.7443 - f1-score: 0.8395 - val_loss: 0.8355 - val_iou_score: 0.6210 - val_f1-score: 0.7399\n",
      "Epoch 57/100\n",
      "8/8 [==============================] - 4s 536ms/step - loss: 0.8005 - iou_score: 0.7635 - f1-score: 0.8554 - val_loss: 0.8112 - val_iou_score: 0.7192 - val_f1-score: 0.8197\n",
      "Epoch 58/100\n",
      "8/8 [==============================] - 4s 539ms/step - loss: 0.8012 - iou_score: 0.7586 - f1-score: 0.8524 - val_loss: 0.8125 - val_iou_score: 0.7116 - val_f1-score: 0.8210\n",
      "Epoch 59/100\n",
      "8/8 [==============================] - 4s 543ms/step - loss: 0.7973 - iou_score: 0.7760 - f1-score: 0.8653 - val_loss: 0.8198 - val_iou_score: 0.6895 - val_f1-score: 0.7962\n",
      "Epoch 60/100\n",
      "8/8 [==============================] - 4s 534ms/step - loss: 0.8009 - iou_score: 0.7670 - f1-score: 0.8544 - val_loss: 0.8165 - val_iou_score: 0.7004 - val_f1-score: 0.8062\n",
      "Epoch 61/100\n",
      "8/8 [==============================] - 4s 534ms/step - loss: 0.7982 - iou_score: 0.7711 - f1-score: 0.8605 - val_loss: 0.8207 - val_iou_score: 0.6751 - val_f1-score: 0.7932\n",
      "Epoch 62/100\n",
      "8/8 [==============================] - 4s 543ms/step - loss: 0.7979 - iou_score: 0.7721 - f1-score: 0.8631 - val_loss: 0.8015 - val_iou_score: 0.7634 - val_f1-score: 0.8550\n",
      "Epoch 63/100\n",
      "8/8 [==============================] - 4s 539ms/step - loss: 0.8040 - iou_score: 0.7298 - f1-score: 0.8260 - val_loss: 0.8099 - val_iou_score: 0.7239 - val_f1-score: 0.8260\n",
      "Epoch 64/100\n",
      "8/8 [==============================] - 4s 546ms/step - loss: 0.8023 - iou_score: 0.7305 - f1-score: 0.8195 - val_loss: 0.8109 - val_iou_score: 0.7214 - val_f1-score: 0.8249\n",
      "Epoch 65/100\n",
      "8/8 [==============================] - 4s 545ms/step - loss: 0.7972 - iou_score: 0.7558 - f1-score: 0.8429 - val_loss: 0.8036 - val_iou_score: 0.7537 - val_f1-score: 0.8483\n",
      "Epoch 66/100\n",
      "8/8 [==============================] - 4s 540ms/step - loss: 0.8004 - iou_score: 0.7527 - f1-score: 0.8416 - val_loss: 0.8036 - val_iou_score: 0.7517 - val_f1-score: 0.8476\n",
      "Epoch 67/100\n",
      "8/8 [==============================] - 4s 544ms/step - loss: 0.7948 - iou_score: 0.7789 - f1-score: 0.8668 - val_loss: 0.8170 - val_iou_score: 0.6977 - val_f1-score: 0.8055\n",
      "Epoch 68/100\n",
      "8/8 [==============================] - 4s 544ms/step - loss: 0.7948 - iou_score: 0.7756 - f1-score: 0.8637 - val_loss: 0.8035 - val_iou_score: 0.7527 - val_f1-score: 0.8469\n",
      "Epoch 69/100\n",
      "8/8 [==============================] - 4s 539ms/step - loss: 0.7959 - iou_score: 0.7807 - f1-score: 0.8671 - val_loss: 0.8017 - val_iou_score: 0.7593 - val_f1-score: 0.8537\n",
      "Epoch 70/100\n",
      "8/8 [==============================] - 4s 533ms/step - loss: 0.7954 - iou_score: 0.7575 - f1-score: 0.8420 - val_loss: 0.8065 - val_iou_score: 0.7392 - val_f1-score: 0.8373\n",
      "Epoch 71/100\n",
      "8/8 [==============================] - 4s 538ms/step - loss: 0.7944 - iou_score: 0.7739 - f1-score: 0.8591 - val_loss: 0.8070 - val_iou_score: 0.7350 - val_f1-score: 0.8344\n",
      "Epoch 72/100\n",
      "8/8 [==============================] - 4s 538ms/step - loss: 0.7952 - iou_score: 0.7818 - f1-score: 0.8694 - val_loss: 0.8085 - val_iou_score: 0.7322 - val_f1-score: 0.8284\n",
      "Epoch 73/100\n",
      "8/8 [==============================] - 4s 540ms/step - loss: 0.7956 - iou_score: 0.7681 - f1-score: 0.8595 - val_loss: 0.8096 - val_iou_score: 0.7254 - val_f1-score: 0.8289\n",
      "Epoch 74/100\n",
      "8/8 [==============================] - 4s 530ms/step - loss: 0.7975 - iou_score: 0.7760 - f1-score: 0.8623 - val_loss: 0.8130 - val_iou_score: 0.7132 - val_f1-score: 0.8155\n",
      "Epoch 75/100\n",
      "8/8 [==============================] - 4s 538ms/step - loss: 0.7937 - iou_score: 0.7848 - f1-score: 0.8720 - val_loss: 0.8259 - val_iou_score: 0.6583 - val_f1-score: 0.7738\n",
      "Epoch 76/100\n",
      "8/8 [==============================] - 4s 542ms/step - loss: 0.7946 - iou_score: 0.7783 - f1-score: 0.8675 - val_loss: 0.8057 - val_iou_score: 0.7446 - val_f1-score: 0.8365\n",
      "Epoch 77/100\n",
      "8/8 [==============================] - 4s 541ms/step - loss: 0.7976 - iou_score: 0.7743 - f1-score: 0.8615 - val_loss: 0.8082 - val_iou_score: 0.7314 - val_f1-score: 0.8303\n",
      "Epoch 78/100\n",
      "8/8 [==============================] - 4s 538ms/step - loss: 0.7947 - iou_score: 0.7632 - f1-score: 0.8466 - val_loss: 0.7971 - val_iou_score: 0.7810 - val_f1-score: 0.8681\n",
      "Epoch 79/100\n",
      "8/8 [==============================] - 4s 535ms/step - loss: 0.7989 - iou_score: 0.7609 - f1-score: 0.8504 - val_loss: 0.8092 - val_iou_score: 0.7257 - val_f1-score: 0.8276\n",
      "Epoch 80/100\n",
      "8/8 [==============================] - 4s 542ms/step - loss: 0.7945 - iou_score: 0.7782 - f1-score: 0.8647 - val_loss: 0.7997 - val_iou_score: 0.7674 - val_f1-score: 0.8567\n",
      "Epoch 81/100\n",
      "8/8 [==============================] - 4s 539ms/step - loss: 0.7920 - iou_score: 0.7934 - f1-score: 0.8782 - val_loss: 0.8060 - val_iou_score: 0.7387 - val_f1-score: 0.8383\n",
      "Epoch 82/100\n",
      "8/8 [==============================] - 4s 546ms/step - loss: 0.7936 - iou_score: 0.7619 - f1-score: 0.8432 - val_loss: 0.8038 - val_iou_score: 0.7506 - val_f1-score: 0.8449\n",
      "Epoch 83/100\n",
      "8/8 [==============================] - 4s 536ms/step - loss: 0.7944 - iou_score: 0.7767 - f1-score: 0.8645 - val_loss: 0.8018 - val_iou_score: 0.7572 - val_f1-score: 0.8515\n",
      "Epoch 84/100\n",
      "8/8 [==============================] - 4s 537ms/step - loss: 0.7908 - iou_score: 0.7721 - f1-score: 0.8555 - val_loss: 0.8081 - val_iou_score: 0.7366 - val_f1-score: 0.8314\n",
      "Epoch 85/100\n",
      "8/8 [==============================] - 4s 544ms/step - loss: 0.7963 - iou_score: 0.7699 - f1-score: 0.8594 - val_loss: 0.8272 - val_iou_score: 0.6705 - val_f1-score: 0.7764\n",
      "Epoch 86/100\n",
      "8/8 [==============================] - 4s 543ms/step - loss: 0.7944 - iou_score: 0.7767 - f1-score: 0.8655 - val_loss: 0.7991 - val_iou_score: 0.7677 - val_f1-score: 0.8603\n",
      "Epoch 87/100\n",
      "8/8 [==============================] - 4s 548ms/step - loss: 0.7961 - iou_score: 0.7549 - f1-score: 0.8449 - val_loss: 0.8116 - val_iou_score: 0.7254 - val_f1-score: 0.8221\n",
      "Epoch 88/100\n",
      "8/8 [==============================] - 4s 543ms/step - loss: 0.7919 - iou_score: 0.7757 - f1-score: 0.8608 - val_loss: 0.8049 - val_iou_score: 0.7438 - val_f1-score: 0.8426\n",
      "Epoch 89/100\n",
      "8/8 [==============================] - 4s 533ms/step - loss: 0.7901 - iou_score: 0.7929 - f1-score: 0.8776 - val_loss: 0.8058 - val_iou_score: 0.7416 - val_f1-score: 0.8391\n",
      "Epoch 90/100\n",
      "8/8 [==============================] - 4s 538ms/step - loss: 0.7927 - iou_score: 0.7873 - f1-score: 0.8707 - val_loss: 0.7992 - val_iou_score: 0.7690 - val_f1-score: 0.8581\n",
      "Epoch 91/100\n",
      "8/8 [==============================] - 4s 540ms/step - loss: 0.7916 - iou_score: 0.7939 - f1-score: 0.8754 - val_loss: 0.8022 - val_iou_score: 0.7557 - val_f1-score: 0.8506\n",
      "Epoch 92/100\n",
      "8/8 [==============================] - 4s 532ms/step - loss: 0.7900 - iou_score: 0.7968 - f1-score: 0.8785 - val_loss: 0.8052 - val_iou_score: 0.7446 - val_f1-score: 0.8408\n",
      "Epoch 93/100\n",
      "8/8 [==============================] - 4s 531ms/step - loss: 0.7919 - iou_score: 0.7872 - f1-score: 0.8719 - val_loss: 0.8075 - val_iou_score: 0.7356 - val_f1-score: 0.8344\n",
      "Epoch 94/100\n",
      "8/8 [==============================] - 4s 535ms/step - loss: 0.7902 - iou_score: 0.7760 - f1-score: 0.8537 - val_loss: 0.8031 - val_iou_score: 0.7543 - val_f1-score: 0.8475\n",
      "Epoch 95/100\n",
      "8/8 [==============================] - 4s 538ms/step - loss: 0.7899 - iou_score: 0.7895 - f1-score: 0.8747 - val_loss: 0.8047 - val_iou_score: 0.7438 - val_f1-score: 0.8431\n",
      "Epoch 96/100\n",
      "8/8 [==============================] - 4s 531ms/step - loss: 0.7926 - iou_score: 0.7671 - f1-score: 0.8451 - val_loss: 0.8054 - val_iou_score: 0.7469 - val_f1-score: 0.8373\n",
      "Epoch 97/100\n",
      "8/8 [==============================] - 4s 534ms/step - loss: 0.7901 - iou_score: 0.7970 - f1-score: 0.8798 - val_loss: 0.8027 - val_iou_score: 0.7536 - val_f1-score: 0.8477\n",
      "Epoch 98/100\n",
      "8/8 [==============================] - 4s 540ms/step - loss: 0.7911 - iou_score: 0.8014 - f1-score: 0.8823 - val_loss: 0.8017 - val_iou_score: 0.7599 - val_f1-score: 0.8507\n",
      "Epoch 99/100\n",
      "8/8 [==============================] - 4s 537ms/step - loss: 0.7888 - iou_score: 0.8031 - f1-score: 0.8834 - val_loss: 0.8000 - val_iou_score: 0.7673 - val_f1-score: 0.8558\n",
      "Epoch 100/100\n",
      "8/8 [==============================] - 4s 535ms/step - loss: 0.7910 - iou_score: 0.7959 - f1-score: 0.8787 - val_loss: 0.8043 - val_iou_score: 0.7466 - val_f1-score: 0.8442\n"
     ]
    }
   ],
   "source": [
    "#Fit the model\n",
    "history=model.fit(X_train_prep, \n",
    "          y_train,\n",
    "          batch_size=8, \n",
    "          epochs=100,\n",
    "          verbose=1,\n",
    "          validation_data=(X_test_prep, y_test))"
   ]
  },
  {
   "cell_type": "markdown",
   "metadata": {
    "id": "whtF9V1npJ8s"
   },
   "source": []
  },
  {
   "cell_type": "code",
   "execution_count": 18,
   "metadata": {
    "id": "LVTe3TrrE6DS"
   },
   "outputs": [],
   "source": [
    "#Save model for future use\n",
    "model.save('E:/3d_unet/3D_model_vgg16_100epochs.h5')"
   ]
  },
  {
   "cell_type": "code",
   "execution_count": 19,
   "metadata": {
    "colab": {
     "base_uri": "https://localhost:8080/",
     "height": 573
    },
    "id": "5Nk4OFMzAoLk",
    "outputId": "8a6a4c7e-f6a4-41b1-ddb0-8723f229014a"
   },
   "outputs": [
    {
     "data": {
      "image/png": "[encoded data removed]",
      "text/plain": [
       "<Figure size 432x288 with 1 Axes>"
      ]
     },
     "metadata": {
      "needs_background": "light"
     },
     "output_type": "display_data"
    },
    {
     "data": {
      "image/png": "[encoded data removed]",
      "text/plain": [
       "<Figure size 432x288 with 1 Axes>"
      ]
     },
     "metadata": {
      "needs_background": "light"
     },
     "output_type": "display_data"
    }
   ],
   "source": [
    "###\n",
    "#plot the training and validation IoU and loss at each epoch\n",
    "loss = history.history['loss']\n",
    "val_loss = history.history['val_loss']\n",
    "epochs = range(1, len(loss) + 1)\n",
    "plt.plot(epochs, loss, 'y', label='Training loss')\n",
    "plt.plot(epochs, val_loss, 'r', label='Validation loss')\n",
    "plt.title('Training and validation loss')\n",
    "plt.xlabel('Epochs')\n",
    "plt.ylabel('Loss')\n",
    "plt.legend()\n",
    "plt.show()\n",
    "\n",
    "acc = history.history['iou_score']\n",
    "val_acc = history.history['val_iou_score']\n",
    "\n",
    "plt.plot(epochs, acc, 'y', label='Training IOU')\n",
    "plt.plot(epochs, val_acc, 'r', label='Validation IOU')\n",
    "plt.title('Training and validation IOU')\n",
    "plt.xlabel('Epochs')\n",
    "plt.ylabel('IOU')\n",
    "plt.legend()\n",
    "plt.show()"
   ]
  },
  {
   "cell_type": "code",
   "execution_count": 20,
   "metadata": {
    "id": "lwjlR25nF54w"
   },
   "outputs": [],
   "source": [
    "#Load the pretrained model for testing and predictions. \n",
    "from keras.models import load_model\n",
    "my_model = load_model('E:/3d_unet/3D_model_vgg16_100epochs.h5', compile=False)\n",
    "#If you load a different model do not forget to preprocess accordingly. "
   ]
  },
  {
   "cell_type": "code",
   "execution_count": 21,
   "metadata": {
    "id": "kTAQpcUQA7SN"
   },
   "outputs": [
    {
     "name": "stdout",
     "output_type": "stream",
     "text": [
      "1/1 [==============================] - 1s 700ms/step\n"
     ]
    }
   ],
   "source": [
    "#Predict on the test data\n",
    "y_pred=my_model.predict(X_test)\n",
    "y_pred_argmax=np.argmax(y_pred, axis=4)\n",
    "y_test_argmax = np.argmax(y_test, axis=4)\n"
   ]
  },
  {
   "cell_type": "code",
   "execution_count": 22,
   "metadata": {
    "id": "FjHYiOqYBifK"
   },
   "outputs": [
    {
     "name": "stdout",
     "output_type": "stream",
     "text": [
      "(7, 64, 64, 64)\n",
      "(7, 64, 64, 64)\n",
      "[0 1 2 3]\n"
     ]
    }
   ],
   "source": [
    "print(y_pred_argmax.shape)\n",
    "print(y_test_argmax.shape)\n",
    "print(np.unique(y_pred_argmax))"
   ]
  },
  {
   "cell_type": "code",
   "execution_count": 23,
   "metadata": {
    "id": "3lv4EhPCHsrz"
   },
   "outputs": [
    {
     "name": "stdout",
     "output_type": "stream",
     "text": [
      "Mean IoU = 0.009464025\n"
     ]
    }
   ],
   "source": [
    "# Using built in keras function for IoU\n",
    "# Only works on TF > 2.0\n",
    "from keras.metrics import MeanIoU\n",
    "from keras.metrics import MeanIoU\n",
    "n_classes = 4\n",
    "IOU_keras = MeanIoU(num_classes=n_classes)  \n",
    "IOU_keras.update_state(y_test_argmax, y_pred_argmax)\n",
    "print(\"Mean IoU =\", IOU_keras.result().numpy())"
   ]
  },
  {
   "cell_type": "code",
   "execution_count": 24,
   "metadata": {
    "id": "BPcRSfobCBrE"
   },
   "outputs": [
    {
     "name": "stdout",
     "output_type": "stream",
     "text": [
      "1/1 [==============================] - 1s 594ms/step\n",
      "(64, 64, 64)\n"
     ]
    }
   ],
   "source": [
    "#Test some random images\n",
    "import random\n",
    "test_img_number = random.randint(0, len(X_test))\n",
    "test_img = X_test[test_img_number]\n",
    "ground_truth=y_test[test_img_number]\n",
    "\n",
    "test_img_input=np.expand_dims(test_img, 0)\n",
    "test_img_input1 = preprocess_input(test_img_input)\n",
    "\n",
    "test_pred1 = my_model.predict(test_img_input1)\n",
    "test_prediction1 = np.argmax(test_pred1, axis=4)[0,:,:,:]\n",
    "print(test_prediction1.shape)\n",
    "\n",
    "\n"
   ]
  },
  {
   "cell_type": "code",
   "execution_count": 25,
   "metadata": {
    "id": "KGQr-RxdFYuF"
   },
   "outputs": [
    {
     "name": "stdout",
     "output_type": "stream",
     "text": [
      "(64, 64, 64, 3)\n"
     ]
    }
   ],
   "source": [
    "ground_truth_argmax = np.argmax(ground_truth, axis=3)\n",
    "print(test_img.shape)"
   ]
  },
  {
   "cell_type": "code",
   "execution_count": 26,
   "metadata": {
    "colab": {
     "base_uri": "https://localhost:8080/",
     "height": 261
    },
    "id": "7W9XsGK7FMuN",
    "outputId": "549c1b79-1130-4100-db4b-54821b56a8e4"
   },
   "outputs": [
    {
     "data": {
      "image/png": "[encoded data removed]",
      "text/plain": [
       "<Figure size 864x576 with 3 Axes>"
      ]
     },
     "metadata": {
      "needs_background": "light"
     },
     "output_type": "display_data"
    }
   ],
   "source": [
    "#Plot individual slices from test predictions for verification\n",
    "slice = 25\n",
    "plt.figure(figsize=(12, 8))\n",
    "plt.subplot(231)\n",
    "plt.title('Testing Image')\n",
    "plt.imshow(test_img[slice,:,:,0], cmap='gray')\n",
    "plt.subplot(232)\n",
    "plt.title('Testing Label')\n",
    "plt.imshow(ground_truth_argmax[slice,:,:])\n",
    "plt.subplot(233)\n",
    "plt.title('Prediction on test image')\n",
    "plt.imshow(test_prediction1[slice,:,:])\n",
    "plt.show()"
   ]
  },
  {
   "cell_type": "markdown",
   "metadata": {
    "id": "CNi7_zeC7SmG"
   },
   "source": [
    "Now segment the full volume using the trained model."
   ]
  },
  {
   "cell_type": "code",
   "execution_count": 27,
   "metadata": {
    "id": "C1eYttiN7tH4"
   },
   "outputs": [
    {
     "name": "stdout",
     "output_type": "stream",
     "text": [
      "(448, 512, 512)\n",
      "(7, 8, 8, 64, 64, 64)\n"
     ]
    }
   ],
   "source": [
    "#Break the large image (volume) into patches of same size as the training images (patches)\n",
    "large_image = io.imread('E:/3d_unet/sandstone_data_for_ML/data_for_3D_Unet/448_images_512x512.tif')\n",
    "patches = patchify(large_image, (64, 64, 64), step=64)  #Step=256 for 256 patches means no overlap\n",
    "print(large_image.shape)\n",
    "print(patches.shape)"
   ]
  },
  {
   "cell_type": "code",
   "execution_count": 28,
   "metadata": {
    "id": "G6KXGtea89wi"
   },
   "outputs": [
    {
     "name": "stdout",
     "output_type": "stream",
     "text": [
      "1/1 [==============================] - 0s 71ms/step\n",
      "1/1 [==============================] - 0s 86ms/step\n",
      "1/1 [==============================] - 0s 81ms/step\n",
      "1/1 [==============================] - 0s 83ms/step\n",
      "1/1 [==============================] - 0s 62ms/step\n",
      "1/1 [==============================] - 0s 78ms/step\n",
      "1/1 [==============================] - 0s 81ms/step\n",
      "1/1 [==============================] - 0s 69ms/step\n",
      "1/1 [==============================] - 0s 82ms/step\n",
      "1/1 [==============================] - 0s 65ms/step\n",
      "1/1 [==============================] - 0s 77ms/step\n",
      "1/1 [==============================] - 0s 84ms/step\n",
      "1/1 [==============================] - 0s 81ms/step\n",
      "1/1 [==============================] - 0s 85ms/step\n",
      "1/1 [==============================] - 0s 67ms/step\n",
      "1/1 [==============================] - 0s 79ms/step\n",
      "1/1 [==============================] - 0s 78ms/step\n",
      "1/1 [==============================] - 0s 91ms/step\n",
      "1/1 [==============================] - 0s 77ms/step\n",
      "1/1 [==============================] - 0s 87ms/step\n",
      "1/1 [==============================] - 0s 80ms/step\n",
      "1/1 [==============================] - 0s 86ms/step\n",
      "1/1 [==============================] - 0s 82ms/step\n",
      "1/1 [==============================] - 0s 72ms/step\n",
      "1/1 [==============================] - 0s 80ms/step\n",
      "1/1 [==============================] - 0s 84ms/step\n",
      "1/1 [==============================] - 0s 81ms/step\n",
      "1/1 [==============================] - 0s 86ms/step\n",
      "1/1 [==============================] - 0s 61ms/step\n",
      "1/1 [==============================] - 0s 81ms/step\n",
      "1/1 [==============================] - 0s 74ms/step\n",
      "1/1 [==============================] - 0s 76ms/step\n",
      "1/1 [==============================] - 0s 79ms/step\n",
      "1/1 [==============================] - 0s 73ms/step\n",
      "1/1 [==============================] - 0s 74ms/step\n",
      "1/1 [==============================] - 0s 61ms/step\n",
      "1/1 [==============================] - 0s 78ms/step\n",
      "1/1 [==============================] - 0s 67ms/step\n",
      "1/1 [==============================] - 0s 81ms/step\n",
      "1/1 [==============================] - 0s 80ms/step\n",
      "1/1 [==============================] - 0s 65ms/step\n",
      "1/1 [==============================] - 0s 91ms/step\n",
      "1/1 [==============================] - 0s 88ms/step\n",
      "1/1 [==============================] - 0s 75ms/step\n",
      "1/1 [==============================] - 0s 62ms/step\n",
      "1/1 [==============================] - 0s 79ms/step\n",
      "1/1 [==============================] - 0s 77ms/step\n",
      "1/1 [==============================] - 0s 82ms/step\n",
      "1/1 [==============================] - 0s 79ms/step\n",
      "1/1 [==============================] - 0s 78ms/step\n",
      "1/1 [==============================] - 0s 61ms/step\n",
      "1/1 [==============================] - 0s 82ms/step\n",
      "1/1 [==============================] - 0s 76ms/step\n",
      "1/1 [==============================] - 0s 51ms/step\n",
      "1/1 [==============================] - 0s 75ms/step\n",
      "1/1 [==============================] - 0s 80ms/step\n",
      "1/1 [==============================] - 0s 80ms/step\n",
      "1/1 [==============================] - 0s 75ms/step\n",
      "1/1 [==============================] - 0s 69ms/step\n",
      "1/1 [==============================] - 0s 78ms/step\n",
      "1/1 [==============================] - 0s 91ms/step\n",
      "1/1 [==============================] - 0s 79ms/step\n",
      "1/1 [==============================] - 0s 79ms/step\n",
      "1/1 [==============================] - 0s 91ms/step\n",
      "1/1 [==============================] - 0s 65ms/step\n",
      "1/1 [==============================] - 0s 89ms/step\n",
      "1/1 [==============================] - 0s 76ms/step\n",
      "1/1 [==============================] - 0s 79ms/step\n",
      "1/1 [==============================] - 0s 75ms/step\n",
      "1/1 [==============================] - 0s 83ms/step\n",
      "1/1 [==============================] - 0s 82ms/step\n",
      "1/1 [==============================] - 0s 80ms/step\n",
      "1/1 [==============================] - 0s 59ms/step\n",
      "1/1 [==============================] - 0s 48ms/step\n",
      "1/1 [==============================] - 0s 54ms/step\n",
      "1/1 [==============================] - 0s 76ms/step\n",
      "1/1 [==============================] - 0s 73ms/step\n",
      "1/1 [==============================] - 0s 77ms/step\n",
      "1/1 [==============================] - 0s 83ms/step\n",
      "1/1 [==============================] - 0s 74ms/step\n",
      "1/1 [==============================] - 0s 73ms/step\n",
      "1/1 [==============================] - 0s 84ms/step\n",
      "1/1 [==============================] - 0s 85ms/step\n",
      "1/1 [==============================] - 0s 62ms/step\n",
      "1/1 [==============================] - 0s 71ms/step\n",
      "1/1 [==============================] - 0s 87ms/step\n",
      "1/1 [==============================] - 0s 62ms/step\n",
      "1/1 [==============================] - 0s 86ms/step\n",
      "1/1 [==============================] - 0s 80ms/step\n",
      "1/1 [==============================] - 0s 82ms/step\n",
      "1/1 [==============================] - 0s 84ms/step\n",
      "1/1 [==============================] - 0s 79ms/step\n",
      "1/1 [==============================] - 0s 78ms/step\n",
      "1/1 [==============================] - 0s 72ms/step\n",
      "1/1 [==============================] - 0s 90ms/step\n",
      "1/1 [==============================] - 0s 78ms/step\n",
      "1/1 [==============================] - 0s 77ms/step\n",
      "1/1 [==============================] - 0s 83ms/step\n",
      "1/1 [==============================] - 0s 81ms/step\n",
      "1/1 [==============================] - 0s 75ms/step\n",
      "1/1 [==============================] - 0s 71ms/step\n",
      "1/1 [==============================] - 0s 78ms/step\n",
      "1/1 [==============================] - 0s 73ms/step\n",
      "1/1 [==============================] - 0s 80ms/step\n",
      "1/1 [==============================] - 0s 81ms/step\n",
      "1/1 [==============================] - 0s 72ms/step\n",
      "1/1 [==============================] - 0s 63ms/step\n",
      "1/1 [==============================] - 0s 87ms/step\n",
      "1/1 [==============================] - 0s 64ms/step\n",
      "1/1 [==============================] - 0s 91ms/step\n",
      "1/1 [==============================] - 0s 82ms/step\n",
      "1/1 [==============================] - 0s 79ms/step\n",
      "1/1 [==============================] - 0s 73ms/step\n",
      "1/1 [==============================] - 0s 80ms/step\n",
      "1/1 [==============================] - 0s 82ms/step\n",
      "1/1 [==============================] - 0s 72ms/step\n",
      "1/1 [==============================] - 0s 81ms/step\n",
      "1/1 [==============================] - 0s 76ms/step\n",
      "1/1 [==============================] - 0s 76ms/step\n",
      "1/1 [==============================] - 0s 78ms/step\n",
      "1/1 [==============================] - 0s 75ms/step\n",
      "1/1 [==============================] - 0s 80ms/step\n",
      "1/1 [==============================] - 0s 82ms/step\n",
      "1/1 [==============================] - 0s 81ms/step\n",
      "1/1 [==============================] - 0s 59ms/step\n",
      "1/1 [==============================] - 0s 81ms/step\n",
      "1/1 [==============================] - 0s 86ms/step\n",
      "1/1 [==============================] - 0s 85ms/step\n",
      "1/1 [==============================] - 0s 86ms/step\n",
      "1/1 [==============================] - 0s 76ms/step\n",
      "1/1 [==============================] - 0s 86ms/step\n",
      "1/1 [==============================] - 0s 79ms/step\n",
      "1/1 [==============================] - 0s 77ms/step\n",
      "1/1 [==============================] - 0s 74ms/step\n",
      "1/1 [==============================] - 0s 70ms/step\n",
      "1/1 [==============================] - 0s 80ms/step\n",
      "1/1 [==============================] - 0s 76ms/step\n",
      "1/1 [==============================] - 0s 79ms/step\n",
      "1/1 [==============================] - 0s 70ms/step\n",
      "1/1 [==============================] - 0s 84ms/step\n",
      "1/1 [==============================] - 0s 80ms/step\n",
      "1/1 [==============================] - 0s 76ms/step\n",
      "1/1 [==============================] - 0s 76ms/step\n",
      "1/1 [==============================] - 0s 70ms/step\n",
      "1/1 [==============================] - 0s 80ms/step\n",
      "1/1 [==============================] - 0s 82ms/step\n",
      "1/1 [==============================] - 0s 86ms/step\n",
      "1/1 [==============================] - 0s 73ms/step\n",
      "1/1 [==============================] - 0s 85ms/step\n",
      "1/1 [==============================] - 0s 85ms/step\n",
      "1/1 [==============================] - 0s 88ms/step\n",
      "1/1 [==============================] - 0s 86ms/step\n",
      "1/1 [==============================] - 0s 71ms/step\n",
      "1/1 [==============================] - 0s 73ms/step\n",
      "1/1 [==============================] - 0s 81ms/step\n",
      "1/1 [==============================] - 0s 67ms/step\n",
      "1/1 [==============================] - 0s 75ms/step\n",
      "1/1 [==============================] - 0s 78ms/step\n",
      "1/1 [==============================] - 0s 78ms/step\n",
      "1/1 [==============================] - 0s 59ms/step\n",
      "1/1 [==============================] - 0s 81ms/step\n",
      "1/1 [==============================] - 0s 80ms/step\n",
      "1/1 [==============================] - 0s 81ms/step\n",
      "1/1 [==============================] - 0s 85ms/step\n",
      "1/1 [==============================] - 0s 67ms/step\n",
      "1/1 [==============================] - 0s 54ms/step\n",
      "1/1 [==============================] - 0s 77ms/step\n",
      "1/1 [==============================] - 0s 81ms/step\n",
      "1/1 [==============================] - 0s 82ms/step\n",
      "1/1 [==============================] - 0s 84ms/step\n",
      "1/1 [==============================] - 0s 87ms/step\n",
      "1/1 [==============================] - 0s 73ms/step\n",
      "1/1 [==============================] - 0s 70ms/step\n",
      "1/1 [==============================] - 0s 83ms/step\n",
      "1/1 [==============================] - 0s 77ms/step\n",
      "1/1 [==============================] - 0s 84ms/step\n",
      "1/1 [==============================] - 0s 80ms/step\n",
      "1/1 [==============================] - 0s 81ms/step\n",
      "1/1 [==============================] - 0s 80ms/step\n",
      "1/1 [==============================] - 0s 77ms/step\n",
      "1/1 [==============================] - 0s 75ms/step\n",
      "1/1 [==============================] - 0s 72ms/step\n",
      "1/1 [==============================] - 0s 74ms/step\n",
      "1/1 [==============================] - 0s 59ms/step\n",
      "1/1 [==============================] - 0s 66ms/step\n",
      "1/1 [==============================] - 0s 80ms/step\n",
      "1/1 [==============================] - 0s 74ms/step\n",
      "1/1 [==============================] - 0s 83ms/step\n",
      "1/1 [==============================] - 0s 81ms/step\n",
      "1/1 [==============================] - 0s 76ms/step\n",
      "1/1 [==============================] - 0s 67ms/step\n",
      "1/1 [==============================] - 0s 62ms/step\n",
      "1/1 [==============================] - 0s 80ms/step\n",
      "1/1 [==============================] - 0s 87ms/step\n",
      "1/1 [==============================] - 0s 84ms/step\n",
      "1/1 [==============================] - 0s 85ms/step\n",
      "1/1 [==============================] - 0s 88ms/step\n",
      "1/1 [==============================] - 0s 80ms/step\n",
      "1/1 [==============================] - 0s 84ms/step\n",
      "1/1 [==============================] - 0s 75ms/step\n",
      "1/1 [==============================] - 0s 77ms/step\n",
      "1/1 [==============================] - 0s 85ms/step\n",
      "1/1 [==============================] - 0s 81ms/step\n",
      "1/1 [==============================] - 0s 65ms/step\n",
      "1/1 [==============================] - 0s 83ms/step\n",
      "1/1 [==============================] - 0s 82ms/step\n",
      "1/1 [==============================] - 0s 67ms/step\n",
      "1/1 [==============================] - 0s 83ms/step\n",
      "1/1 [==============================] - 0s 81ms/step\n",
      "1/1 [==============================] - 0s 85ms/step\n",
      "1/1 [==============================] - 0s 78ms/step\n",
      "1/1 [==============================] - 0s 87ms/step\n",
      "1/1 [==============================] - 0s 81ms/step\n",
      "1/1 [==============================] - 0s 75ms/step\n",
      "1/1 [==============================] - 0s 84ms/step\n",
      "1/1 [==============================] - 0s 82ms/step\n",
      "1/1 [==============================] - 0s 82ms/step\n",
      "1/1 [==============================] - 0s 87ms/step\n",
      "1/1 [==============================] - 0s 66ms/step\n",
      "1/1 [==============================] - 0s 77ms/step\n",
      "1/1 [==============================] - 0s 81ms/step\n",
      "1/1 [==============================] - 0s 70ms/step\n",
      "1/1 [==============================] - 0s 78ms/step\n",
      "1/1 [==============================] - 0s 84ms/step\n",
      "1/1 [==============================] - 0s 78ms/step\n",
      "1/1 [==============================] - 0s 53ms/step\n",
      "1/1 [==============================] - 0s 84ms/step\n",
      "1/1 [==============================] - 0s 75ms/step\n",
      "1/1 [==============================] - 0s 70ms/step\n",
      "1/1 [==============================] - 0s 83ms/step\n",
      "1/1 [==============================] - 0s 78ms/step\n",
      "1/1 [==============================] - 0s 75ms/step\n",
      "1/1 [==============================] - 0s 76ms/step\n",
      "1/1 [==============================] - 0s 85ms/step\n",
      "1/1 [==============================] - 0s 80ms/step\n",
      "1/1 [==============================] - 0s 85ms/step\n",
      "1/1 [==============================] - 0s 84ms/step\n",
      "1/1 [==============================] - 0s 87ms/step\n",
      "1/1 [==============================] - 0s 84ms/step\n",
      "1/1 [==============================] - 0s 59ms/step\n",
      "1/1 [==============================] - 0s 79ms/step\n",
      "1/1 [==============================] - 0s 80ms/step\n",
      "1/1 [==============================] - 0s 62ms/step\n",
      "1/1 [==============================] - 0s 86ms/step\n",
      "1/1 [==============================] - 0s 66ms/step\n",
      "1/1 [==============================] - 0s 78ms/step\n",
      "1/1 [==============================] - 0s 78ms/step\n",
      "1/1 [==============================] - 0s 80ms/step\n",
      "1/1 [==============================] - 0s 75ms/step\n",
      "1/1 [==============================] - 0s 82ms/step\n",
      "1/1 [==============================] - 0s 80ms/step\n",
      "1/1 [==============================] - 0s 62ms/step\n",
      "1/1 [==============================] - 0s 80ms/step\n",
      "1/1 [==============================] - 0s 80ms/step\n",
      "1/1 [==============================] - 0s 84ms/step\n",
      "1/1 [==============================] - 0s 80ms/step\n",
      "1/1 [==============================] - 0s 88ms/step\n",
      "1/1 [==============================] - 0s 86ms/step\n",
      "1/1 [==============================] - 0s 74ms/step\n",
      "1/1 [==============================] - 0s 71ms/step\n",
      "1/1 [==============================] - 0s 79ms/step\n",
      "1/1 [==============================] - 0s 73ms/step\n",
      "1/1 [==============================] - 0s 81ms/step\n",
      "1/1 [==============================] - 0s 78ms/step\n",
      "1/1 [==============================] - 0s 82ms/step\n",
      "1/1 [==============================] - 0s 82ms/step\n",
      "1/1 [==============================] - 0s 81ms/step\n",
      "1/1 [==============================] - 0s 83ms/step\n",
      "1/1 [==============================] - 0s 85ms/step\n",
      "1/1 [==============================] - 0s 82ms/step\n",
      "1/1 [==============================] - 0s 75ms/step\n",
      "1/1 [==============================] - 0s 81ms/step\n",
      "1/1 [==============================] - 0s 75ms/step\n",
      "1/1 [==============================] - 0s 77ms/step\n",
      "1/1 [==============================] - 0s 67ms/step\n",
      "1/1 [==============================] - 0s 79ms/step\n",
      "1/1 [==============================] - 0s 82ms/step\n",
      "1/1 [==============================] - 0s 88ms/step\n",
      "1/1 [==============================] - 0s 84ms/step\n",
      "1/1 [==============================] - 0s 86ms/step\n",
      "1/1 [==============================] - 0s 58ms/step\n",
      "1/1 [==============================] - 0s 87ms/step\n",
      "1/1 [==============================] - 0s 66ms/step\n",
      "1/1 [==============================] - 0s 84ms/step\n",
      "1/1 [==============================] - 0s 83ms/step\n",
      "1/1 [==============================] - 0s 79ms/step\n",
      "1/1 [==============================] - 0s 78ms/step\n",
      "1/1 [==============================] - 0s 57ms/step\n",
      "1/1 [==============================] - 0s 83ms/step\n",
      "1/1 [==============================] - 0s 82ms/step\n",
      "1/1 [==============================] - 0s 73ms/step\n",
      "1/1 [==============================] - 0s 80ms/step\n",
      "1/1 [==============================] - 0s 77ms/step\n",
      "1/1 [==============================] - 0s 78ms/step\n",
      "1/1 [==============================] - 0s 75ms/step\n",
      "1/1 [==============================] - 0s 85ms/step\n",
      "1/1 [==============================] - 0s 72ms/step\n",
      "1/1 [==============================] - 0s 81ms/step\n",
      "1/1 [==============================] - 0s 86ms/step\n",
      "1/1 [==============================] - 0s 62ms/step\n",
      "1/1 [==============================] - 0s 86ms/step\n",
      "1/1 [==============================] - 0s 86ms/step\n",
      "1/1 [==============================] - 0s 72ms/step\n",
      "1/1 [==============================] - 0s 63ms/step\n",
      "1/1 [==============================] - 0s 59ms/step\n",
      "1/1 [==============================] - 0s 78ms/step\n",
      "1/1 [==============================] - 0s 84ms/step\n",
      "1/1 [==============================] - 0s 76ms/step\n",
      "1/1 [==============================] - 0s 70ms/step\n",
      "1/1 [==============================] - 0s 79ms/step\n",
      "1/1 [==============================] - 0s 78ms/step\n",
      "1/1 [==============================] - 0s 73ms/step\n",
      "1/1 [==============================] - 0s 84ms/step\n",
      "1/1 [==============================] - 0s 85ms/step\n",
      "1/1 [==============================] - 0s 61ms/step\n",
      "1/1 [==============================] - 0s 84ms/step\n",
      "1/1 [==============================] - 0s 78ms/step\n",
      "1/1 [==============================] - 0s 78ms/step\n",
      "1/1 [==============================] - 0s 83ms/step\n",
      "1/1 [==============================] - 0s 74ms/step\n",
      "1/1 [==============================] - 0s 86ms/step\n",
      "1/1 [==============================] - 0s 87ms/step\n",
      "1/1 [==============================] - 0s 85ms/step\n",
      "1/1 [==============================] - 0s 72ms/step\n",
      "1/1 [==============================] - 0s 81ms/step\n",
      "1/1 [==============================] - 0s 72ms/step\n",
      "1/1 [==============================] - 0s 77ms/step\n",
      "1/1 [==============================] - 0s 78ms/step\n",
      "1/1 [==============================] - 0s 81ms/step\n",
      "1/1 [==============================] - 0s 80ms/step\n",
      "1/1 [==============================] - 0s 82ms/step\n",
      "1/1 [==============================] - 0s 63ms/step\n",
      "1/1 [==============================] - 0s 84ms/step\n",
      "1/1 [==============================] - 0s 82ms/step\n",
      "1/1 [==============================] - 0s 86ms/step\n",
      "1/1 [==============================] - 0s 78ms/step\n",
      "1/1 [==============================] - 0s 80ms/step\n",
      "1/1 [==============================] - 0s 74ms/step\n",
      "1/1 [==============================] - 0s 58ms/step\n",
      "1/1 [==============================] - 0s 75ms/step\n",
      "1/1 [==============================] - 0s 80ms/step\n",
      "1/1 [==============================] - 0s 82ms/step\n",
      "1/1 [==============================] - 0s 80ms/step\n",
      "1/1 [==============================] - 0s 73ms/step\n",
      "1/1 [==============================] - 0s 86ms/step\n",
      "1/1 [==============================] - 0s 79ms/step\n",
      "1/1 [==============================] - 0s 69ms/step\n",
      "1/1 [==============================] - 0s 88ms/step\n",
      "1/1 [==============================] - 0s 65ms/step\n",
      "1/1 [==============================] - 0s 67ms/step\n",
      "1/1 [==============================] - 0s 82ms/step\n",
      "1/1 [==============================] - 0s 79ms/step\n",
      "1/1 [==============================] - 0s 80ms/step\n",
      "1/1 [==============================] - 0s 66ms/step\n",
      "1/1 [==============================] - 0s 80ms/step\n",
      "1/1 [==============================] - 0s 72ms/step\n",
      "1/1 [==============================] - 0s 82ms/step\n",
      "1/1 [==============================] - 0s 80ms/step\n",
      "1/1 [==============================] - 0s 84ms/step\n",
      "1/1 [==============================] - 0s 79ms/step\n",
      "1/1 [==============================] - 0s 78ms/step\n",
      "1/1 [==============================] - 0s 66ms/step\n",
      "1/1 [==============================] - 0s 80ms/step\n",
      "1/1 [==============================] - 0s 90ms/step\n",
      "1/1 [==============================] - 0s 78ms/step\n",
      "1/1 [==============================] - 0s 81ms/step\n",
      "1/1 [==============================] - 0s 82ms/step\n",
      "1/1 [==============================] - 0s 74ms/step\n",
      "1/1 [==============================] - 0s 69ms/step\n",
      "1/1 [==============================] - 0s 76ms/step\n",
      "1/1 [==============================] - 0s 70ms/step\n",
      "1/1 [==============================] - 0s 82ms/step\n",
      "1/1 [==============================] - 0s 88ms/step\n",
      "1/1 [==============================] - 0s 85ms/step\n",
      "1/1 [==============================] - 0s 82ms/step\n",
      "1/1 [==============================] - 0s 79ms/step\n",
      "1/1 [==============================] - 0s 78ms/step\n",
      "1/1 [==============================] - 0s 60ms/step\n",
      "1/1 [==============================] - 0s 81ms/step\n",
      "1/1 [==============================] - 0s 84ms/step\n",
      "1/1 [==============================] - 0s 83ms/step\n",
      "1/1 [==============================] - 0s 80ms/step\n",
      "1/1 [==============================] - 0s 90ms/step\n",
      "1/1 [==============================] - 0s 86ms/step\n",
      "1/1 [==============================] - 0s 69ms/step\n",
      "1/1 [==============================] - 0s 67ms/step\n",
      "1/1 [==============================] - 0s 85ms/step\n",
      "1/1 [==============================] - 0s 79ms/step\n",
      "1/1 [==============================] - 0s 84ms/step\n",
      "1/1 [==============================] - 0s 74ms/step\n",
      "1/1 [==============================] - 0s 65ms/step\n",
      "1/1 [==============================] - 0s 80ms/step\n",
      "1/1 [==============================] - 0s 77ms/step\n",
      "1/1 [==============================] - 0s 61ms/step\n",
      "1/1 [==============================] - 0s 86ms/step\n",
      "1/1 [==============================] - 0s 82ms/step\n",
      "1/1 [==============================] - 0s 74ms/step\n",
      "1/1 [==============================] - 0s 75ms/step\n",
      "1/1 [==============================] - 0s 79ms/step\n",
      "1/1 [==============================] - 0s 76ms/step\n",
      "1/1 [==============================] - 0s 74ms/step\n",
      "1/1 [==============================] - 0s 86ms/step\n",
      "1/1 [==============================] - 0s 76ms/step\n",
      "1/1 [==============================] - 0s 85ms/step\n",
      "1/1 [==============================] - 0s 54ms/step\n",
      "1/1 [==============================] - 0s 62ms/step\n",
      "1/1 [==============================] - 0s 88ms/step\n",
      "1/1 [==============================] - 0s 76ms/step\n",
      "1/1 [==============================] - 0s 83ms/step\n",
      "1/1 [==============================] - 0s 61ms/step\n",
      "1/1 [==============================] - 0s 82ms/step\n",
      "1/1 [==============================] - 0s 82ms/step\n",
      "1/1 [==============================] - 0s 77ms/step\n",
      "1/1 [==============================] - 0s 66ms/step\n",
      "1/1 [==============================] - 0s 85ms/step\n",
      "1/1 [==============================] - 0s 79ms/step\n",
      "1/1 [==============================] - 0s 59ms/step\n",
      "1/1 [==============================] - 0s 64ms/step\n",
      "1/1 [==============================] - 0s 84ms/step\n",
      "1/1 [==============================] - 0s 79ms/step\n",
      "1/1 [==============================] - 0s 77ms/step\n",
      "1/1 [==============================] - 0s 67ms/step\n",
      "1/1 [==============================] - 0s 83ms/step\n",
      "1/1 [==============================] - 0s 77ms/step\n",
      "1/1 [==============================] - 0s 76ms/step\n",
      "1/1 [==============================] - 0s 68ms/step\n",
      "1/1 [==============================] - 0s 81ms/step\n",
      "1/1 [==============================] - 0s 87ms/step\n",
      "1/1 [==============================] - 0s 64ms/step\n",
      "1/1 [==============================] - 0s 77ms/step\n",
      "1/1 [==============================] - 0s 84ms/step\n",
      "1/1 [==============================] - 0s 62ms/step\n",
      "1/1 [==============================] - 0s 78ms/step\n",
      "1/1 [==============================] - 0s 62ms/step\n",
      "1/1 [==============================] - 0s 83ms/step\n",
      "1/1 [==============================] - 0s 81ms/step\n",
      "1/1 [==============================] - 0s 84ms/step\n",
      "1/1 [==============================] - 0s 61ms/step\n",
      "1/1 [==============================] - 0s 79ms/step\n",
      "1/1 [==============================] - 0s 79ms/step\n",
      "1/1 [==============================] - 0s 71ms/step\n",
      "1/1 [==============================] - 0s 58ms/step\n",
      "1/1 [==============================] - 0s 87ms/step\n",
      "1/1 [==============================] - 0s 78ms/step\n",
      "1/1 [==============================] - 0s 79ms/step\n",
      "1/1 [==============================] - 0s 70ms/step\n",
      "1/1 [==============================] - 0s 86ms/step\n",
      "1/1 [==============================] - 0s 88ms/step\n"
     ]
    }
   ],
   "source": [
    "# Predict each 3D patch   \n",
    "predicted_patches = []\n",
    "for i in range(patches.shape[0]):\n",
    "  for j in range(patches.shape[1]):\n",
    "    for k in range(patches.shape[2]):\n",
    "      #print(i,j,k)\n",
    "      single_patch = patches[i,j,k, :,:,:]\n",
    "      single_patch_3ch = np.stack((single_patch,)*3, axis=-1)\n",
    "      single_patch_3ch_input = preprocess_input(np.expand_dims(single_patch_3ch, axis=0))\n",
    "      single_patch_prediction = my_model.predict(single_patch_3ch_input)\n",
    "      single_patch_prediction_argmax = np.argmax(single_patch_prediction, axis=4)[0,:,:,:]\n",
    "      predicted_patches.append(single_patch_prediction_argmax)\n",
    "      \n"
   ]
  },
  {
   "cell_type": "code",
   "execution_count": 29,
   "metadata": {
    "id": "yxX9vrPMAvK2"
   },
   "outputs": [
    {
     "name": "stdout",
     "output_type": "stream",
     "text": [
      "(448, 64, 64, 64)\n"
     ]
    }
   ],
   "source": [
    "#Convert list to numpy array\n",
    "predicted_patches = np.array(predicted_patches)\n",
    "print(predicted_patches.shape)"
   ]
  },
  {
   "cell_type": "code",
   "execution_count": 30,
   "metadata": {
    "id": "qYQi_STcA6gw"
   },
   "outputs": [
    {
     "name": "stdout",
     "output_type": "stream",
     "text": [
      "(7, 8, 8, 64, 64, 64)\n"
     ]
    }
   ],
   "source": [
    "#Reshape to the shape we had after patchifying\n",
    "predicted_patches_reshaped = np.reshape(predicted_patches, \n",
    "                                        (patches.shape[0], patches.shape[1], patches.shape[2],\n",
    "                                         patches.shape[3], patches.shape[4], patches.shape[5]) )\n",
    "print(predicted_patches_reshaped.shape)"
   ]
  },
  {
   "cell_type": "code",
   "execution_count": 31,
   "metadata": {
    "id": "SQcYSuaeBP2i"
   },
   "outputs": [
    {
     "name": "stdout",
     "output_type": "stream",
     "text": [
      "(448, 512, 512)\n"
     ]
    }
   ],
   "source": [
    "#Repach individual patches into the orginal volume shape\n",
    "reconstructed_image = unpatchify(predicted_patches_reshaped, large_image.shape)\n",
    "print(reconstructed_image.shape)"
   ]
  },
  {
   "cell_type": "code",
   "execution_count": 32,
   "metadata": {
    "id": "rFF2FwCGDR1A"
   },
   "outputs": [
    {
     "name": "stdout",
     "output_type": "stream",
     "text": [
      "int64\n"
     ]
    }
   ],
   "source": [
    "print(reconstructed_image.dtype)"
   ]
  },
  {
   "cell_type": "code",
   "execution_count": 33,
   "metadata": {
    "id": "6VF_g8oLDjKp"
   },
   "outputs": [
    {
     "name": "stdout",
     "output_type": "stream",
     "text": [
      "uint8\n"
     ]
    }
   ],
   "source": [
    "#Convert to uint8 so we can open image in most image viewing software packages\n",
    "reconstructed_image=reconstructed_image.astype(np.uint8)\n",
    "print(reconstructed_image.dtype)"
   ]
  },
  {
   "cell_type": "code",
   "execution_count": 34,
   "metadata": {
    "id": "OdjWCDYoKLgM"
   },
   "outputs": [],
   "source": [
    "#Now save it as segmented volume.\n",
    "from tifffile import imsave\n",
    "imsave('E:/3d_unet/sandstone_data_for_ML/segmented.tif', reconstructed_image)\n",
    "    "
   ]
  },
  {
   "cell_type": "code",
   "execution_count": null,
   "metadata": {
    "id": "SsBu290SNNSD"
   },
   "outputs": [],
   "source": [
    "#If you would like to save the volume as multichannel dataset...."
   ]
  },
  {
   "cell_type": "code",
   "execution_count": 35,
   "metadata": {
    "id": "EMFGGwT8FpEl"
   },
   "outputs": [
    {
     "name": "stdout",
     "output_type": "stream",
     "text": [
      "[0 1 2 3]\n"
     ]
    }
   ],
   "source": [
    "print(np.unique(reconstructed_image))"
   ]
  },
  {
   "cell_type": "code",
   "execution_count": 36,
   "metadata": {
    "id": "USCSJT4rGBDt"
   },
   "outputs": [],
   "source": [
    "#Seperate each channel/segment to be combined as multiple channels.\n",
    "num_segments=4\n",
    "segm0 = (reconstructed_image == 0)\n",
    "segm1 = (reconstructed_image == 1)\n",
    "segm2 = (reconstructed_image == 2)\n",
    "segm3 = (reconstructed_image == 3)\n",
    "\n",
    "final = np.empty((reconstructed_image.shape[0], reconstructed_image.shape[1], reconstructed_image.shape[2], num_segments))\n",
    "final[:,:,:,0] = segm0\n",
    "final[:,:,:,1] = segm1\n",
    "final[:,:,:,2] = segm2\n",
    "final[:,:,:,3] = segm3"
   ]
  },
  {
   "cell_type": "code",
   "execution_count": null,
   "metadata": {
    "id": "F4ZfPm41J4yk"
   },
   "outputs": [],
   "source": [
    "#Use APEER OMETIFF library to read and write multidimensional images\n",
    "!pip install apeer-ometiff-library"
   ]
  },
  {
   "cell_type": "code",
   "execution_count": 37,
   "metadata": {
    "id": "enE_X9SCJoYA"
   },
   "outputs": [],
   "source": [
    "from apeer_ometiff_library import io"
   ]
  },
  {
   "cell_type": "code",
   "execution_count": 38,
   "metadata": {
    "id": "bj0QC8OWINAD"
   },
   "outputs": [],
   "source": [
    "# Expand image array to 5D of order (T, Z, C, X, Y)\n",
    "# This is the convention for OMETIFF format as written by APEER library\n",
    "final = np.expand_dims(final, axis=0)\n",
    "final=np.swapaxes(final, 2, 4)\n",
    "\n",
    "final = final.astype(np.int8)\n",
    "\n"
   ]
  },
  {
   "cell_type": "code",
   "execution_count": 39,
   "metadata": {
    "id": "StgpqkJbIa2F"
   },
   "outputs": [
    {
     "name": "stdout",
     "output_type": "stream",
     "text": [
      "Shape of the segmented volume is: T, Z, C, X, Y  (1, 448, 4, 512, 512)\n",
      "int8\n"
     ]
    }
   ],
   "source": [
    "print(\"Shape of the segmented volume is: T, Z, C, X, Y \", final.shape)\n",
    "print(final.dtype)\n"
   ]
  },
  {
   "cell_type": "code",
   "execution_count": 41,
   "metadata": {
    "id": "oT2L6880WY1k"
   },
   "outputs": [],
   "source": [
    "# Write dataset as multi-dimensional OMETIFF *image*\n",
    "io.write_ometiff(\"E:/3d_unet/sandstone_data_for_MLsegmented_multi_channel.ome.tiff\", final)"
   ]
  },
  {
   "cell_type": "code",
   "execution_count": null,
   "metadata": {},
   "outputs": [],
   "source": []
  }
 ],
 "metadata": {
  "accelerator": "GPU",
  "colab": {
   "collapsed_sections": [],
   "name": "3D_Unet.ipynb",
   "provenance": []
  },
  "kernelspec": {
   "display_name": "deeplearning",
   "language": "python",
   "name": "deeplearning"
  },
  "language_info": {
   "codemirror_mode": {
    "name": "ipython",
    "version": 3
   },
   "file_extension": ".py",
   "mimetype": "text/x-python",
   "name": "python",
   "nbconvert_exporter": "python",
   "pygments_lexer": "ipython3",
   "version": "3.8.10"
  },
  "vscode": {
   "interpreter": {
    "hash": "31bd82a605dd01c1d8e1645f4ec0b47e7c90b6d635592c81a73a2848534bb8e8"
   }
  }
 },
 "nbformat": 4,
 "nbformat_minor": 1
}
